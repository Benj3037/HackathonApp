{
 "cells": [
  {
   "cell_type": "code",
   "execution_count": 1,
   "metadata": {},
   "outputs": [],
   "source": [
    "# Import necessary libraries\n",
    "import streamlit as st\n",
    "import pandas as pd\n",
    "import altair as alt\n",
    "import matplotlib.pyplot as plt\n",
    "import seaborn as sns"
   ]
  },
  {
   "cell_type": "code",
   "execution_count": 2,
   "metadata": {},
   "outputs": [
    {
     "name": "stderr",
     "output_type": "stream",
     "text": [
      "2023-09-14 12:53:25.643 WARNING streamlit.runtime.caching.cache_data_api: No runtime found, using MemoryCacheStorageManager\n"
     ]
    }
   ],
   "source": [
    "# Function to load the dataset\n",
    "@st.cache_data  # Cache the function to enhance performance\n",
    "def load_data():\n",
    "    # Define the file path\n",
    "    file_path = \"data\\data with continents and without missing years.csv\"\n",
    "    \n",
    "    # Load the CSV file into a pandas dataframe\n",
    "    df = pd.read_csv(file_path)\n",
    "\n",
    "    return df"
   ]
  },
  {
   "cell_type": "code",
   "execution_count": 4,
   "metadata": {},
   "outputs": [
    {
     "name": "stderr",
     "output_type": "stream",
     "text": [
      "2023-09-14 12:53:53.949 \n",
      "  \u001b[33m\u001b[1mWarning:\u001b[0m to view this Streamlit app on a browser, run it with the following\n",
      "  command:\n",
      "\n",
      "    streamlit run c:\\Users\\roger\\anaconda3\\envs\\EDA\\Lib\\site-packages\\ipykernel_launcher.py [ARGUMENTS]\n",
      "2023-09-14 12:53:53.949 No runtime found, using MemoryCacheStorageManager\n"
     ]
    }
   ],
   "source": [
    "# Load the data using the defined function\n",
    "df = load_data()"
   ]
  },
  {
   "cell_type": "code",
   "execution_count": 5,
   "metadata": {},
   "outputs": [
    {
     "name": "stdout",
     "output_type": "stream",
     "text": [
      "<class 'pandas.core.frame.DataFrame'>\n"
     ]
    }
   ],
   "source": [
    "print(type(df))"
   ]
  },
  {
   "cell_type": "code",
   "execution_count": 6,
   "metadata": {},
   "outputs": [
    {
     "name": "stdout",
     "output_type": "stream",
     "text": [
      "<class 'pandas.core.frame.DataFrame'>\n",
      "RangeIndex: 3612 entries, 0 to 3611\n",
      "Data columns (total 22 columns):\n",
      " #   Column                                                            Non-Null Count  Dtype  \n",
      "---  ------                                                            --------------  -----  \n",
      " 0   Country                                                           3612 non-null   object \n",
      " 1   Year                                                              3612 non-null   int64  \n",
      " 2   Access to electricity (% of population)                           3603 non-null   float64\n",
      " 3   Access to clean fuels for cooking                                 3444 non-null   float64\n",
      " 4   Renewable-electricity-generating-capacity-per-capita              2709 non-null   float64\n",
      " 5   Financial flows to developing countries (US $)                    1554 non-null   float64\n",
      " 6   Renewable energy share in the total final energy consumption (%)  3421 non-null   float64\n",
      " 7   Electricity from fossil fuels (TWh)                               3591 non-null   float64\n",
      " 8   Electricity from nuclear (TWh)                                    3486 non-null   float64\n",
      " 9   Electricity from renewables (TWh)                                 3591 non-null   float64\n",
      " 10  Low-carbon electricity (% electricity)                            3570 non-null   float64\n",
      " 11  Primary energy consumption per capita (kWh/person)                3612 non-null   float64\n",
      " 12  Energy intensity level of primary energy (MJ/$2017 PPP GDP)       3413 non-null   float64\n",
      " 13  Value_co2_emissions_kt_by_country                                 3188 non-null   float64\n",
      " 14  Renewables (% equivalent primary energy)                          1512 non-null   float64\n",
      " 15  gdp_growth                                                        3301 non-null   float64\n",
      " 16  gdp_per_capita                                                    3336 non-null   float64\n",
      " 17  Density\\n(P/Km2)                                                  3612 non-null   object \n",
      " 18  Land Area(Km2)                                                    3612 non-null   float64\n",
      " 19  Latitude                                                          3612 non-null   float64\n",
      " 20  Longitude                                                         3612 non-null   float64\n",
      " 21  Continent                                                         3612 non-null   object \n",
      "dtypes: float64(18), int64(1), object(3)\n",
      "memory usage: 620.9+ KB\n"
     ]
    }
   ],
   "source": [
    "df.info()"
   ]
  },
  {
   "cell_type": "code",
   "execution_count": null,
   "metadata": {},
   "outputs": [],
   "source": []
  }
 ],
 "metadata": {
  "kernelspec": {
   "display_name": "EDA",
   "language": "python",
   "name": "python3"
  },
  "language_info": {
   "codemirror_mode": {
    "name": "ipython",
    "version": 3
   },
   "file_extension": ".py",
   "mimetype": "text/x-python",
   "name": "python",
   "nbconvert_exporter": "python",
   "pygments_lexer": "ipython3",
   "version": "3.11.4"
  },
  "orig_nbformat": 4
 },
 "nbformat": 4,
 "nbformat_minor": 2
}
